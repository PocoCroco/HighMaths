{
 "cells": [
  {
   "cell_type": "code",
   "execution_count": 2,
   "id": "2d8394f0",
   "metadata": {},
   "outputs": [],
   "source": [
    "%matplotlib inline\n",
    "import numpy as np\n",
    "from matplotlib import pyplot as plt"
   ]
  },
  {
   "cell_type": "markdown",
   "id": "83a1bbf8",
   "metadata": {},
   "source": [
    "### Задание 1"
   ]
  },
  {
   "cell_type": "code",
   "execution_count": 16,
   "id": "e226eb64",
   "metadata": {
    "scrolled": false
   },
   "outputs": [
    {
     "data": {
      "image/png": "[encoded data removed]",
      "text/plain": [
       "<Figure size 432x288 with 1 Axes>"
      ]
     },
     "metadata": {
      "needs_background": "light"
     },
     "output_type": "display_data"
    }
   ],
   "source": [
    "x = []\n",
    "num_bins = 37\n",
    "for i in range(0, 500):\n",
    "    x.append(round(np.random.uniform(0,36)))\n",
    "plt.xlabel('x')\n",
    "plt.ylabel('prob')\n",
    "n, bins, patches = plt.hist(x, num_bins, density = True)"
   ]
  },
  {
   "cell_type": "markdown",
   "id": "231a04c3",
   "metadata": {},
   "source": [
    "### Задание 2.1"
   ]
  },
  {
   "cell_type": "code",
   "execution_count": 26,
   "id": "3f342aa6",
   "metadata": {
    "scrolled": true
   },
   "outputs": [
    {
     "name": "stdout",
     "output_type": "stream",
     "text": [
      "0.0181\n"
     ]
    }
   ],
   "source": [
    "x = []\n",
    "x1 = []\n",
    "for i in range(0, 10000):\n",
    "    a = round(np.random.uniform(0,36))\n",
    "    b = round(np.random.uniform(0,36))\n",
    "    x.append(a)\n",
    "    if a < 5 and b > 31:\n",
    "        x1.append(a)\n",
    "    \n",
    "# P(AB) = P(A) * P(B) = 5/37 * 5/37 = 0.01826150474\n",
    "print(len(x1)/len(x))\n"
   ]
  },
  {
   "cell_type": "markdown",
   "id": "b6554cf6",
   "metadata": {},
   "source": [
    "### Задание 2.2"
   ]
  },
  {
   "cell_type": "code",
   "execution_count": 41,
   "id": "ff26f6c4",
   "metadata": {},
   "outputs": [
    {
     "data": {
      "image/png": "[encoded data removed]",
      "text/plain": [
       "<Figure size 432x288 with 1 Axes>"
      ]
     },
     "metadata": {
      "needs_background": "light"
     },
     "output_type": "display_data"
    }
   ],
   "source": [
    "# x0 = np.random.uniform(0,9)\n",
    "# x1 = np.random.uniform(0,9)\n",
    "# x2 = np.random.uniform(0,9)\n",
    "# x3 = np.random.uniform(0,9)\n",
    "# x4 = np.random.uniform(0,9)\n",
    "# x5 = np.random.uniform(0,9)\n",
    "# x6 = np.random.uniform(0,9)\n",
    "# x7 = np.random.uniform(0,9)\n",
    "# x8 = np.random.uniform(0,9)\n",
    "# x9 = np.random.uniform(0,9)\n",
    "x_all = []\n",
    "for k in range(0, 999):\n",
    "    x = []\n",
    "    for i in range(0, 9):\n",
    "        x.append(round(np.random.uniform(0, 99)))\n",
    "    x_all.append(sum(x))\n",
    "    \n",
    "plt.xlabel('x')\n",
    "plt.ylabel('prob')\n",
    "n, bins, patches = plt.hist(x_all, 20, density = True)"
   ]
  },
  {
   "cell_type": "markdown",
   "id": "4eea1ca3",
   "metadata": {},
   "source": [
    "### Задание 3"
   ]
  },
  {
   "cell_type": "code",
   "execution_count": 43,
   "id": "153d3f87",
   "metadata": {},
   "outputs": [
    {
     "name": "stdout",
     "output_type": "stream",
     "text": [
      "364 1000 0.364\n"
     ]
    }
   ],
   "source": [
    "k, n = 0, 1000\n",
    "a = np.random.randint(0, 2, n)\n",
    "b = np.random.randint(0, 2, n)\n",
    "c = np.random.randint(0, 2, n)\n",
    "d = np.random.randint(0, 2, n)\n",
    "x = a + b + c + d\n",
    "for i in range(0, n):\n",
    "    if x[i] == 2:\n",
    "        k = k + 1\n",
    "print(k, n, k/n)"
   ]
  },
  {
   "cell_type": "markdown",
   "id": "822784a5",
   "metadata": {},
   "source": [
    "$ C_4^2=\\frac{4!}{2!(4-2)!}=\\frac{4\\cdot 3\\cdot 2}{2\\cdot 2}=6 $\n",
    "$ P_4^2=\\frac{6}{2^4}=0.375 $"
   ]
  },
  {
   "cell_type": "markdown",
   "id": "6d6fc83c",
   "metadata": {},
   "source": [
    "### Задание 3.2"
   ]
  },
  {
   "cell_type": "code",
   "execution_count": 45,
   "id": "173d8eb8",
   "metadata": {},
   "outputs": [
    {
     "name": "stdout",
     "output_type": "stream",
     "text": [
      "653 2000 0.3265\n"
     ]
    }
   ],
   "source": [
    "k = 0\n",
    "n = 2000\n",
    "a = np.random.randint(0, 2, n)\n",
    "b = np.random.randint(0, 2, n)\n",
    "c = np.random.randint(0, 2, n)\n",
    "d = np.random.randint(0, 2, n)\n",
    "e = np.random.randint(0, 2, n)\n",
    "f = np.random.randint(0, 2, n)\n",
    "x = a + b + c + d + e + f\n",
    "for i in range(0, n):\n",
    "    if x[i] == 3:\n",
    "        k = k + 1\n",
    "print(k, n, k/n)"
   ]
  },
  {
   "cell_type": "markdown",
   "id": "144b2ec4",
   "metadata": {},
   "source": [
    "### Задание 4"
   ]
  },
  {
   "cell_type": "code",
   "execution_count": 47,
   "id": "eba92919",
   "metadata": {},
   "outputs": [],
   "source": [
    "import itertools"
   ]
  },
  {
   "cell_type": "code",
   "execution_count": 51,
   "id": "c4b37fc9",
   "metadata": {
    "scrolled": false
   },
   "outputs": [
    {
     "name": "stdout",
     "output_type": "stream",
     "text": [
      "01\n",
      "02\n",
      "03\n",
      "04\n",
      "12\n",
      "13\n",
      "14\n",
      "23\n",
      "24\n",
      "34\n"
     ]
    }
   ],
   "source": [
    "for p in itertools.combinations('01234', 2):\n",
    "    print(''.join(p))"
   ]
  },
  {
   "cell_type": "markdown",
   "id": "53010d65",
   "metadata": {},
   "source": [
    "### Задание 5"
   ]
  },
  {
   "cell_type": "code",
   "execution_count": 52,
   "id": "cac0d6ca",
   "metadata": {},
   "outputs": [
    {
     "name": "stdout",
     "output_type": "stream",
     "text": [
      "0.6773025979368018 0.15800111584852417\n",
      "0.6773025979368027 0.15800111584852372\n",
      "[[1.         0.89970613]\n",
      " [0.89970613 1.        ]]\n"
     ]
    },
    {
     "data": {
      "image/png": "[encoded data removed]",
      "text/plain": [
       "<Figure size 432x288 with 1 Axes>"
      ]
     },
     "metadata": {
      "needs_background": "light"
     },
     "output_type": "display_data"
    }
   ],
   "source": [
    "np.warnings.filterwarnings('ignore')\n",
    "n = 100\n",
    "r = 0.7\n",
    "x = np.random.rand(n)\n",
    "y = r*x + (1 - r)*np.random.rand(n)\n",
    "plt.plot(x, y, 'o')\n",
    "plt.xlabel('x')\n",
    "plt.ylabel('y')\n",
    "plt.grid(True)\n",
    "\n",
    "a = (np.sum(x)*np.sum(y) - n*np.sum(x*y))/(np.sum(x)*np.sum(x) - n*np.sum(x*x))\n",
    "b = (np.sum(y) - a*np.sum(x))/n\n",
    "\n",
    "A = np.vstack([x, np.ones(len(x))]).T\n",
    "a1, b1 = np.linalg.lstsq(A, y)[0]\n",
    "c = np.corrcoef(x, y)\n",
    "\n",
    "print(a, b)\n",
    "print(a1, b1)\n",
    "print(c)\n",
    "plt.plot([0, 1], [b, a + b])\n",
    "plt.show()"
   ]
  },
  {
   "cell_type": "code",
   "execution_count": null,
   "id": "4e3c7233",
   "metadata": {},
   "outputs": [],
   "source": []
  }
 ],
 "metadata": {
  "kernelspec": {
   "display_name": "Python 3",
   "language": "python",
   "name": "python3"
  },
  "language_info": {
   "codemirror_mode": {
    "name": "ipython",
    "version": 3
   },
   "file_extension": ".py",
   "mimetype": "text/x-python",
   "name": "python",
   "nbconvert_exporter": "python",
   "pygments_lexer": "ipython3",
   "version": "3.8.8"
  }
 },
 "nbformat": 4,
 "nbformat_minor": 5
}
