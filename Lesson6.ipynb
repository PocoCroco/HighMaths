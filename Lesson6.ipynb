{
 "cells": [
  {
   "cell_type": "markdown",
   "id": "1204592f",
   "metadata": {},
   "source": [
    "### Задание 1"
   ]
  },
  {
   "cell_type": "markdown",
   "id": "a8a5448b",
   "metadata": {},
   "source": [
    "Применим теорему сложения для нахождения вероятности выпадения 2 или 5.\n",
    "1/6 + 1/6 = 2/6 = 0,33"
   ]
  },
  {
   "cell_type": "markdown",
   "id": "a4b1b212",
   "metadata": {},
   "source": [
    "### Задание 2"
   ]
  },
  {
   "cell_type": "markdown",
   "id": "545d0952",
   "metadata": {},
   "source": [
    "Применим теорему сложения для нахождения вероятности выпадения 2 и 5 при двух подбрасываниях.\n",
    "1/6 * 1/6 = 1/36"
   ]
  },
  {
   "cell_type": "markdown",
   "id": "0f37939d",
   "metadata": {},
   "source": [
    "### Задание 3"
   ]
  },
  {
   "cell_type": "markdown",
   "id": "a26c8914",
   "metadata": {},
   "source": [
    "Так как количество вариантов увеличилось в два раза (2 и 5, 5 и 2), вероятность из прошлого задания возрастает в два раза.\n",
    "\n",
    "2/36 = 1/18"
   ]
  },
  {
   "cell_type": "markdown",
   "id": "7110d26a",
   "metadata": {},
   "source": [
    "### Задание 4"
   ]
  },
  {
   "cell_type": "markdown",
   "id": "14912874",
   "metadata": {},
   "source": [
    "Чтобы вычислисть, на каком промежутке должна находиться точка C, сложим сумму максимальных расстояний до точек и вычтем длину отрезка:\n",
    "\n",
    "15+9-20 = 4\n",
    "\n",
    "Вероятность нахождения точки на этом отрезке:\n",
    "\n",
    "P = 4/20 = 0,2"
   ]
  },
  {
   "cell_type": "markdown",
   "id": "1b0420b7",
   "metadata": {},
   "source": [
    "### Задание 5"
   ]
  },
  {
   "cell_type": "markdown",
   "id": "1f69899c",
   "metadata": {},
   "source": [
    "Всего способов составить номер: $ 10^6 $"
   ]
  },
  {
   "cell_type": "markdown",
   "id": "6dc2e090",
   "metadata": {},
   "source": [
    "Способов составить номер 8882227: 1"
   ]
  },
  {
   "cell_type": "markdown",
   "id": "913dabd2",
   "metadata": {},
   "source": [
    "P = $ 10^{-6} $"
   ]
  },
  {
   "cell_type": "markdown",
   "id": "0eb7e451",
   "metadata": {},
   "source": [
    "### Задание 6"
   ]
  },
  {
   "cell_type": "markdown",
   "id": "918dd5d3",
   "metadata": {},
   "source": [
    "Рассмотрим две последние цифры телефона: первую можно выбрать 9 способами (ноль не считается), вторую - 8 способами. \n",
    "\n",
    "1) Всего вариантов: 9*8 = 72. Нужно перебрать 72 варианта.\n",
    "\n",
    "2) Благоприятных исходов, т.е. верных номеров телефонов - 1.\n",
    "\n",
    "P = 1/72 ≈ 0,014"
   ]
  },
  {
   "cell_type": "code",
   "execution_count": null,
   "id": "3a01695a",
   "metadata": {},
   "outputs": [],
   "source": []
  }
 ],
 "metadata": {
  "kernelspec": {
   "display_name": "Python 3",
   "language": "python",
   "name": "python3"
  },
  "language_info": {
   "codemirror_mode": {
    "name": "ipython",
    "version": 3
   },
   "file_extension": ".py",
   "mimetype": "text/x-python",
   "name": "python",
   "nbconvert_exporter": "python",
   "pygments_lexer": "ipython3",
   "version": "3.8.8"
  }
 },
 "nbformat": 4,
 "nbformat_minor": 5
}
