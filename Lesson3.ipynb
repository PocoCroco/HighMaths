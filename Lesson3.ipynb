{
 "cells": [
  {
   "cell_type": "code",
   "execution_count": 6,
   "id": "91c48ee2",
   "metadata": {},
   "outputs": [],
   "source": [
    "%matplotlib inline\n",
    "\n",
    "\n",
    "import numpy as np\n",
    "import matplotlib.pyplot as plt\n",
    "from pylab import *\n",
    "import warnings\n",
    "\n",
    "warnings.filterwarnings('ignore')"
   ]
  },
  {
   "cell_type": "markdown",
   "id": "9549e4b1",
   "metadata": {},
   "source": [
    "### Задание 1"
   ]
  },
  {
   "cell_type": "markdown",
   "id": "6022902c",
   "metadata": {},
   "source": [
    "sin(x)/x = 0"
   ]
  },
  {
   "cell_type": "markdown",
   "id": "3285d74a",
   "metadata": {},
   "source": [
    "ОДЗ:\n",
    "x != 0"
   ]
  },
  {
   "cell_type": "markdown",
   "id": "c1933f67",
   "metadata": {},
   "source": [
    "sin(x) = 0"
   ]
  },
  {
   "cell_type": "markdown",
   "id": "61a7b871",
   "metadata": {},
   "source": [
    "x = πn, n ∈ Z; x != 0"
   ]
  },
  {
   "cell_type": "markdown",
   "id": "8b5bac86",
   "metadata": {},
   "source": [
    "=> x = π+2πn, n ∈ Z"
   ]
  },
  {
   "cell_type": "markdown",
   "id": "7f4b1f72",
   "metadata": {},
   "source": [
    "Ответ: {π+2πn, n ∈ Z}"
   ]
  },
  {
   "cell_type": "markdown",
   "id": "99f1018e",
   "metadata": {},
   "source": [
    "### Задание 2"
   ]
  },
  {
   "cell_type": "markdown",
   "id": "4be07d08",
   "metadata": {},
   "source": [
    "Даны три прямые y=k1*x+b1, y=k2*x+b2,, y=k3*x+b3. Как узнать, пересекаются они в одной точке или нет?\n"
   ]
  },
  {
   "cell_type": "markdown",
   "id": "0ea0b401",
   "metadata": {},
   "source": [
    "Составим систему уравнений:"
   ]
  },
  {
   "cell_type": "markdown",
   "id": "518a8c07",
   "metadata": {},
   "source": [
    "k1x+b1=k2x+b2;\n",
    "\n",
    "k2x+b2=k3x+b3;\n",
    "\n",
    "k3x+b3=k1x+b1."
   ]
  },
  {
   "cell_type": "markdown",
   "id": "21223be0",
   "metadata": {},
   "source": [
    "Если во всех трёх уравнениях x равен одному и тому же числу, тогда прямые пересекаются в одной точке."
   ]
  },
  {
   "cell_type": "markdown",
   "id": "40f1c03c",
   "metadata": {},
   "source": [
    "### Задание 3"
   ]
  },
  {
   "cell_type": "markdown",
   "id": "cbd17c0f",
   "metadata": {},
   "source": [
    "На листе тетради «в линейку» (расстояние между линиями равно а) лежит игла (длиной b). Координаты нижней точки иглы (х,у), игла лежит под углом alfa. Пересекает ли игла линию или нет?"
   ]
  },
  {
   "cell_type": "markdown",
   "id": "142ee6ea",
   "metadata": {},
   "source": [
    "Чтобы решить задачу, нужно узнать, при каких альфа игла пересекает линию."
   ]
  },
  {
   "cell_type": "markdown",
   "id": "97f5ad0c",
   "metadata": {},
   "source": [
    "Пусть дан треугольник ABC, в котором AB - гипотенуза, а BC - противоположный углу альфа катет"
   ]
  },
  {
   "cell_type": "markdown",
   "id": "aef71e89",
   "metadata": {},
   "source": [
    "$ \\sum _{i=0}^na_i $ - сумма расстояний между линиями, где $ \\sum _{i=0}^{n-1}a_i < y < \\sum _{i=0}^na_i $"
   ]
  },
  {
   "cell_type": "markdown",
   "id": "70c2ecf5",
   "metadata": {},
   "source": [
    "AB = b, BC = $ \\sum _{i=0}^na_i - y $"
   ]
  },
  {
   "cell_type": "markdown",
   "id": "a772ac22",
   "metadata": {},
   "source": [
    "Игла пересекает линию, если:"
   ]
  },
  {
   "cell_type": "markdown",
   "id": "ac3e227e",
   "metadata": {},
   "source": [
    "$ sin(\\alpha ) > \\frac{\\sum _{i=0}^na_i-y}{b} $"
   ]
  },
  {
   "cell_type": "markdown",
   "id": "2bbff276",
   "metadata": {},
   "source": [
    "### Задание 4"
   ]
  },
  {
   "cell_type": "markdown",
   "id": "57b3d28e",
   "metadata": {},
   "source": [
    "Решите аналитически и потом численно (в программе) уравнение, зависящее от параметра а: \n",
    "sin(а*x)=0\n",
    "при условии: 0.01<a<0.02, 100<х<500.\n"
   ]
  },
  {
   "cell_type": "markdown",
   "id": "4784c62d",
   "metadata": {},
   "source": [
    "ax = πn, n ∈ Z\n",
    "\n",
    "x = πn/a, n ∈ Z"
   ]
  },
  {
   "cell_type": "markdown",
   "id": "ff0bf937",
   "metadata": {},
   "source": [
    "Найдём подходящие значения n\n",
    "\n",
    "n > 0, поскольку a>0 и x>0\n",
    "\n",
    "Если n=1, то при a=0,02:\n",
    "\n",
    "x= π/0,02 ≈ 157\n",
    "\n",
    "Если n=2, то при a=0,02:\n",
    "\n",
    "x= 2π/0,02 ≈ 314\n",
    "\n",
    "Если n=3, то при a=0,02:\n",
    "\n",
    "x= 3π/0,02 ≈ 471\n",
    "\n",
    "Если n=4, то при a=0,02:\n",
    "x= 4π/0,02 ≈ 628, x > 500. То есть, n != 4"
   ]
  },
  {
   "cell_type": "code",
   "execution_count": 18,
   "id": "b5e0a821",
   "metadata": {},
   "outputs": [
    {
     "data": {
      "text/plain": [
       "[<matplotlib.lines.Line2D at 0x1505e0f9850>]"
      ]
     },
     "execution_count": 18,
     "metadata": {},
     "output_type": "execute_result"
    },
    {
     "data": {
      "image/png": "[encoded data removed]",
      "text/plain": [
       "<Figure size 432x288 with 1 Axes>"
      ]
     },
     "metadata": {
      "needs_background": "light"
     },
     "output_type": "display_data"
    }
   ],
   "source": [
    "a = np.linspace(0.01, 0.02)\n",
    "x1 = []\n",
    "x2 = []\n",
    "x3 = []\n",
    "\n",
    "for i in a:\n",
    "    if 100 < np.pi/i < 500:\n",
    "        x1.append(np.pi/i)\n",
    "    else:\n",
    "        x1.append(None)\n",
    "    if 100 < 2*np.pi/i < 500:\n",
    "        x2.append(2*np.pi/i)\n",
    "    else:\n",
    "        x2.append(None)\n",
    "    if 100 < 3*np.pi/i < 500:\n",
    "        x3.append(3*np.pi/i)\n",
    "    else:\n",
    "        x3.append(None)\n",
    "plt.plot(a, x1)\n",
    "plt.plot(a, x2)\n",
    "plt.plot(a, x3)"
   ]
  },
  {
   "cell_type": "markdown",
   "id": "fa14a771",
   "metadata": {},
   "source": [
    "### Задание 17.6.2"
   ]
  },
  {
   "cell_type": "markdown",
   "id": "b591198c",
   "metadata": {},
   "source": [
    "Найти угол альфа между прямыми 4y-3x+12=0 и 7y+x-14=0"
   ]
  },
  {
   "cell_type": "markdown",
   "id": "a0954293",
   "metadata": {},
   "source": [
    "$ tg\\left(\\alpha \\right)=\\frac{-3\\cdot 7-4\\cdot 1}{4\\cdot 7-3\\cdot 1}=\\frac{-25}{25}=-1 $\n",
    "\n",
    "$ \\alpha = 135 $"
   ]
  },
  {
   "cell_type": "markdown",
   "id": "b2e0cff8",
   "metadata": {},
   "source": [
    "### Задание 17.6.4"
   ]
  },
  {
   "cell_type": "markdown",
   "id": "bfd10eb0",
   "metadata": {},
   "source": [
    "Найти угол альфа между прямыми $ x = \\sqrt{2} $  и $ x = -\\sqrt{3} $"
   ]
  },
  {
   "cell_type": "markdown",
   "id": "e8c91e03",
   "metadata": {},
   "source": [
    "Ответ: данные прямые параллельны, поскольку перпендикулярны оси X"
   ]
  },
  {
   "cell_type": "markdown",
   "id": "39a95e38",
   "metadata": {},
   "source": [
    "### Выяснить тип кривых второго порядка, порождённых следующими уравнениями:"
   ]
  },
  {
   "cell_type": "markdown",
   "id": "dfeaeacf",
   "metadata": {},
   "source": [
    "### 17.6.5"
   ]
  },
  {
   "cell_type": "markdown",
   "id": "a00704e2",
   "metadata": {},
   "source": [
    "$ y^2-2y-2x-5=0 $\n",
    "\n",
    "$ y^2-2y+1-2x-6=0 $\n",
    "\n",
    "$ \\left(y-1\\right)^2=2x+6 $\n",
    "\n",
    "$ y=\\pm \\sqrt{2x+6}+1 $"
   ]
  },
  {
   "cell_type": "markdown",
   "id": "fd7fdfab",
   "metadata": {},
   "source": [
    "Данная фигура - парабола"
   ]
  },
  {
   "cell_type": "markdown",
   "id": "c1def334",
   "metadata": {},
   "source": [
    "### 17.6.6"
   ]
  },
  {
   "cell_type": "markdown",
   "id": "bbbf984e",
   "metadata": {},
   "source": [
    "$ 3x^2+5y^2+12x-30y+42=0 $\n",
    "\n",
    "$ 3x^2+12x+12+5y^2-30y+45-15=0 $\n",
    "\n",
    "$ 3\\left(x+2\\right)^2+5\\left(y-3\\right)^2=15 $"
   ]
  },
  {
   "cell_type": "markdown",
   "id": "1bfb198e",
   "metadata": {},
   "source": [
    "Данная фигура - эллипс"
   ]
  },
  {
   "cell_type": "markdown",
   "id": "c3047ae3",
   "metadata": {},
   "source": [
    "### 17.6.7"
   ]
  },
  {
   "cell_type": "markdown",
   "id": "f74671a8",
   "metadata": {},
   "source": [
    "$ 2x^2-y^2+6y-7=0 $"
   ]
  },
  {
   "cell_type": "markdown",
   "id": "6f4cf57a",
   "metadata": {},
   "source": [
    "$ y^2-6y+9=2x^2+2 $"
   ]
  },
  {
   "cell_type": "markdown",
   "id": "e8eca2db",
   "metadata": {},
   "source": [
    "$ \\left(y-3\\right)^2-2x^2=2 $"
   ]
  },
  {
   "cell_type": "markdown",
   "id": "9118ada3",
   "metadata": {},
   "source": [
    "Данная фигура - гипербола"
   ]
  },
  {
   "cell_type": "markdown",
   "id": "83d20e47",
   "metadata": {},
   "source": [
    "### 17.6.8"
   ]
  },
  {
   "cell_type": "markdown",
   "id": "2f41da46",
   "metadata": {},
   "source": [
    "$ 2x^{2}-3y^{2}-28x-42y-55=0 $"
   ]
  },
  {
   "cell_type": "markdown",
   "id": "0f990c58",
   "metadata": {},
   "source": [
    "$ 2x^2-28x+98-\\left(3y^2+42y+147\\right)=6 $"
   ]
  },
  {
   "cell_type": "markdown",
   "id": "8e18ad90",
   "metadata": {},
   "source": [
    "$ 2\\left(x-7\\right)^2-3\\left(y+7\\right)^2=6 $"
   ]
  },
  {
   "cell_type": "markdown",
   "id": "16dbaba7",
   "metadata": {},
   "source": [
    "Данная фигура - гипербола"
   ]
  },
  {
   "cell_type": "code",
   "execution_count": null,
   "id": "7abb91a3",
   "metadata": {},
   "outputs": [],
   "source": []
  }
 ],
 "metadata": {
  "kernelspec": {
   "display_name": "Python 3",
   "language": "python",
   "name": "python3"
  },
  "language_info": {
   "codemirror_mode": {
    "name": "ipython",
    "version": 3
   },
   "file_extension": ".py",
   "mimetype": "text/x-python",
   "name": "python",
   "nbconvert_exporter": "python",
   "pygments_lexer": "ipython3",
   "version": "3.8.8"
  }
 },
 "nbformat": 4,
 "nbformat_minor": 5
}
